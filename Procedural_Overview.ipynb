{
  "nbformat": 4,
  "nbformat_minor": 0,
  "metadata": {
    "colab": {
      "provenance": []
    },
    "kernelspec": {
      "name": "python3",
      "display_name": "Python 3"
    },
    "language_info": {
      "name": "python"
    }
  },
  "cells": [
    {
      "cell_type": "markdown",
      "source": [
        "# Feeder 3.1 Procedural Overview\n",
        "######To make the County Health Data easier to read, the data is aggregated into region. This data displayed is info on Premature deaths, Health, Teen births, Child poverty, and Primary care physicians  by Region.\n",
        "## Data Set-up\n",
        "1. You must import pandas as an object so that is can begin to manipulate the data given.\n",
        "\n",
        "2. Next, the dataset must be imported as an object\n",
        "      - Download the Public *County Health Dataset CSV file *\n",
        "      - Classify the dataset as \"df\" so pandas has an object to read"
      ],
      "metadata": {
        "id": "d4gnkuKKl6GD"
      }
    },
    {
      "cell_type": "code",
      "source": [
        "import pandas as pd\n",
        "df=pd.read_csv(\"CountyHealthData_2014-2015F.csv\")\n"
      ],
      "metadata": {
        "id": "3oUgBvNfnar2"
      },
      "execution_count": null,
      "outputs": []
    },
    {
      "cell_type": "markdown",
      "source": [
        "## Finding The Amount of Regions\n",
        "1. Create an object called \"Region\" that has the 4 regions given in dataset in a string\n",
        "(this will help with the production of a new dataset)\n"
      ],
      "metadata": {
        "id": "hJ2xlOm_nxi7"
      }
    },
    {
      "cell_type": "code",
      "source": [
        "Region = [\"West\", \"Northeast\", \"Midwest\", \"South\"]"
      ],
      "metadata": {
        "id": "WwxByJCYoqeU"
      },
      "execution_count": null,
      "outputs": []
    },
    {
      "cell_type": "markdown",
      "source": [
        "## Making a new dataset of Premature deaths, Health, Teen births, Children Poverty, and Primary care physicians by Region\n",
        "1. Using the data and pandas we will make columns from the inputed data using the combined function"
      ],
      "metadata": {
        "id": "ArJfxRufo5i9"
      }
    },
    {
      "cell_type": "code",
      "source": [
        "combined = pd.DataFrame({\"Region\":[], \"Premature\":[],\"Poor\":[] , \"Teen\":[] ,\"Child\":[] ,\"Primary\":[] })\n"
      ],
      "metadata": {
        "id": "nibbiSHhpXZp"
      },
      "execution_count": null,
      "outputs": []
    },
    {
      "cell_type": "markdown",
      "source": [
        "Through the use of a for loop we can iterate through the list of regions. In each iteration of the loop we add a row to the dataframe. First I created a dataframe of objects with six values, Region, Premature, Poor, Teen, Child, and Primary. After the cumulative dataframe is combined with a temporary dataframe."
      ],
      "metadata": {
        "id": "nKDC1itqB6-N"
      }
    },
    {
      "cell_type": "code",
      "source": [
        "for x in Region:\n",
        "    current = pd.DataFrame({\"Region\":[x], \"Premature\":[df[df[\"Region\"]==x].Premature.sum()], \"Poor\":[df[df[\"Region\"]==x].Poor.sum()], \"Teen\":[df[df[\"Region\"]==x].Teen.sum()], \"Child\":[df[df[\"Region\"]==x].Child.sum()], \"Primary\":[df[df[\"Region\"]==x].Primary.sum()]})\n",
        "    combined = pd.concat([combined, current],axis=0,ignore_index=True,sort=False)\n"
      ],
      "metadata": {
        "id": "SARJxSvhD-GY"
      },
      "execution_count": null,
      "outputs": []
    },
    {
      "cell_type": "markdown",
      "source": [
        "Then I changed the column names and made the cumulative dataframe into a csv file.\n",
        "To do this I used .to_csv() to export my new data as a .csv file."
      ],
      "metadata": {
        "id": "hXCSpVB6Hw34"
      }
    },
    {
      "cell_type": "code",
      "source": [
        "    combined = combined.rename(columns={'Premature' : 'Premature Death','Poor' : 'Poor or fair health','Teen' : 'Teen births','Child' : 'Children in poverty','Primary' : 'Primary care physicians'})\n",
        "\n",
        "    combined.to_csv(\"RegionData-22.csv\", index=False)\n"
      ],
      "metadata": {
        "id": "4upykmIUHpQp"
      },
      "execution_count": null,
      "outputs": []
    }
  ]
}
