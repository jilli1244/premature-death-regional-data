{
  "nbformat": 4,
  "nbformat_minor": 0,
  "metadata": {
    "colab": {
      "provenance": []
    },
    "kernelspec": {
      "name": "python3",
      "display_name": "Python 3"
    },
    "language_info": {
      "name": "python"
    }
  },
  "cells": [
    {
      "cell_type": "code",
      "execution_count": 17,
      "metadata": {
        "id": "eMWDtbA4b-HX"
      },
      "outputs": [],
      "source": [
        "import pandas as pd"
      ]
    },
    {
      "cell_type": "code",
      "source": [
        "df=pd.read_csv(\"CountyHealthData_2014-2015.csv\")"
      ],
      "metadata": {
        "id": "-QpxenVUdytm"
      },
      "execution_count": 18,
      "outputs": []
    },
    {
      "cell_type": "code",
      "source": [
        "import numpy as np"
      ],
      "metadata": {
        "id": "2pDpFPvgvkLc"
      },
      "execution_count": 19,
      "outputs": []
    },
    {
      "cell_type": "code",
      "source": [
        "df.columns\n"
      ],
      "metadata": {
        "colab": {
          "base_uri": "https://localhost:8080/"
        },
        "id": "cOj-RTM4_98b",
        "outputId": "76f7e506-9e35-404e-ee03-02d1688accc8"
      },
      "execution_count": 20,
      "outputs": [
        {
          "output_type": "execute_result",
          "data": {
            "text/plain": [
              "Index(['State', 'Region', 'Division', 'County', 'FIPS', 'GEOID', 'SMS Region',\n",
              "       'Year', 'Premature death', 'Poor or fair health',\n",
              "       'Poor physical health days', 'Poor mental health days',\n",
              "       'Low birthweight', 'Adult smoking', 'Adult obesity',\n",
              "       'Food environment index', 'Physical inactivity',\n",
              "       'Access to exercise opportunities', 'Excessive drinking',\n",
              "       'Alcohol-impaired driving deaths', 'Sexually transmitted infections',\n",
              "       'Teen births', 'Uninsured', 'Primary care physicians', 'Dentists',\n",
              "       'Mental health providers', 'Preventable hospital stays',\n",
              "       'Diabetic screening', 'Mammography screening', 'High school graduation',\n",
              "       'Some college', 'Unemployment', 'Children in poverty',\n",
              "       'Income inequality', 'Children in single-parent households',\n",
              "       'Social associations', 'Violent crime', 'Injury deaths',\n",
              "       'Air pollution - particulate matter', 'Drinking water violations',\n",
              "       'Severe housing problems', 'Driving alone to work',\n",
              "       'Long commute - driving alone', '2011 population estimate',\n",
              "       'Population that is not proficient in English',\n",
              "       'Population living in a rural area', 'Diabetes', 'HIV prevalence rate',\n",
              "       'Premature age-adjusted mortality', 'Infant mortality',\n",
              "       'Child mortality', 'Food insecurity', 'Limited access to healthy foods',\n",
              "       'Motor vehicle crash deaths', 'Drug poisoning deaths',\n",
              "       'Uninsured adults', 'Uninsured children', 'Health care costs',\n",
              "       'Could not see doctor due to cost', 'Other primary care providers',\n",
              "       'Median household income', 'Children eligible for free lunch',\n",
              "       'Homicide rate', 'Inadequate social support'],\n",
              "      dtype='object')"
            ]
          },
          "metadata": {},
          "execution_count": 20
        }
      ]
    },
    {
      "cell_type": "code",
      "source": [
        "df[\"Premature death\"]"
      ],
      "metadata": {
        "colab": {
          "base_uri": "https://localhost:8080/"
        },
        "id": "Nd_d4e1sAJtr",
        "outputId": "a0d20924-cbe4-44c4-bee8-b9a756c0c5c4"
      },
      "execution_count": 21,
      "outputs": [
        {
          "output_type": "execute_result",
          "data": {
            "text/plain": [
              "0           NaN\n",
              "1           NaN\n",
              "2        6827.0\n",
              "3        6856.0\n",
              "4       13345.0\n",
              "         ...   \n",
              "6104     7436.0\n",
              "6105     6580.0\n",
              "6106     7572.0\n",
              "6107     5633.0\n",
              "6108     7819.0\n",
              "Name: Premature death, Length: 6109, dtype: float64"
            ]
          },
          "metadata": {},
          "execution_count": 21
        }
      ]
    },
    {
      "cell_type": "code",
      "source": [
        "df[\"Region\"]"
      ],
      "metadata": {
        "colab": {
          "base_uri": "https://localhost:8080/"
        },
        "id": "xsspz1evAYX3",
        "outputId": "d883c19d-9667-43bc-ae49-4f816bcff285"
      },
      "execution_count": 22,
      "outputs": [
        {
          "output_type": "execute_result",
          "data": {
            "text/plain": [
              "0       West\n",
              "1       West\n",
              "2       West\n",
              "3       West\n",
              "4       West\n",
              "        ... \n",
              "6104    West\n",
              "6105    West\n",
              "6106    West\n",
              "6107    West\n",
              "6108    West\n",
              "Name: Region, Length: 6109, dtype: object"
            ]
          },
          "metadata": {},
          "execution_count": 22
        }
      ]
    },
    {
      "cell_type": "code",
      "source": [
        "df.head()\n"
      ],
      "metadata": {
        "colab": {
          "base_uri": "https://localhost:8080/",
          "height": 515
        },
        "id": "b7GG5X5UxYO-",
        "outputId": "fd50c71c-232b-40db-9d44-4076944f075c"
      },
      "execution_count": 23,
      "outputs": [
        {
          "output_type": "execute_result",
          "data": {
            "text/plain": [
              "  State Region Division                      County  FIPS  GEOID   SMS Region  \\\n",
              "0    AK   West  Pacific  Aleutians West Census Area  2016   2016  Insuff Data   \n",
              "1    AK   West  Pacific  Aleutians West Census Area  2016   2016  Insuff Data   \n",
              "2    AK   West  Pacific           Anchorage Borough  2020   2020    Region 22   \n",
              "3    AK   West  Pacific           Anchorage Borough  2020   2020    Region 22   \n",
              "4    AK   West  Pacific          Bethel Census Area  2050   2050  Insuff Data   \n",
              "\n",
              "       Year  Premature death  Poor or fair health  ...  Drug poisoning deaths  \\\n",
              "0  1/1/2014              NaN                0.122  ...                    NaN   \n",
              "1  1/1/2015              NaN                0.122  ...                    NaN   \n",
              "2  1/1/2014           6827.0                0.125  ...                  15.37   \n",
              "3  1/1/2015           6856.0                0.125  ...                  17.08   \n",
              "4  1/1/2014          13345.0                0.211  ...                    NaN   \n",
              "\n",
              "   Uninsured adults  Uninsured children  Health care costs  \\\n",
              "0             0.374               0.250             3791.0   \n",
              "1             0.314               0.176             4837.0   \n",
              "2             0.218               0.096             6588.0   \n",
              "3             0.227               0.123             6582.0   \n",
              "4             0.394               0.124             5860.0   \n",
              "\n",
              "   Could not see doctor due to cost  Other primary care providers  \\\n",
              "0                             0.185                         216.0   \n",
              "1                             0.185                         254.0   \n",
              "2                             0.119                         135.0   \n",
              "3                             0.119                         148.0   \n",
              "4                             0.200                         169.0   \n",
              "\n",
              "   Median household income  Children eligible for free lunch  Homicide rate  \\\n",
              "0                    69192                             0.127            NaN   \n",
              "1                    74088                             0.133            NaN   \n",
              "2                    71094                             0.319           6.29   \n",
              "3                    76362                             0.334           5.60   \n",
              "4                    41722                             0.668          12.77   \n",
              "\n",
              "   Inadequate social support  \n",
              "0                      0.287  \n",
              "1                        NaN  \n",
              "2                      0.160  \n",
              "3                        NaN  \n",
              "4                      0.477  \n",
              "\n",
              "[5 rows x 64 columns]"
            ],
            "text/html": [
              "\n",
              "  <div id=\"df-a6383fcc-a864-461d-aa25-9b9f8ee20abd\" class=\"colab-df-container\">\n",
              "    <div>\n",
              "<style scoped>\n",
              "    .dataframe tbody tr th:only-of-type {\n",
              "        vertical-align: middle;\n",
              "    }\n",
              "\n",
              "    .dataframe tbody tr th {\n",
              "        vertical-align: top;\n",
              "    }\n",
              "\n",
              "    .dataframe thead th {\n",
              "        text-align: right;\n",
              "    }\n",
              "</style>\n",
              "<table border=\"1\" class=\"dataframe\">\n",
              "  <thead>\n",
              "    <tr style=\"text-align: right;\">\n",
              "      <th></th>\n",
              "      <th>State</th>\n",
              "      <th>Region</th>\n",
              "      <th>Division</th>\n",
              "      <th>County</th>\n",
              "      <th>FIPS</th>\n",
              "      <th>GEOID</th>\n",
              "      <th>SMS Region</th>\n",
              "      <th>Year</th>\n",
              "      <th>Premature death</th>\n",
              "      <th>Poor or fair health</th>\n",
              "      <th>...</th>\n",
              "      <th>Drug poisoning deaths</th>\n",
              "      <th>Uninsured adults</th>\n",
              "      <th>Uninsured children</th>\n",
              "      <th>Health care costs</th>\n",
              "      <th>Could not see doctor due to cost</th>\n",
              "      <th>Other primary care providers</th>\n",
              "      <th>Median household income</th>\n",
              "      <th>Children eligible for free lunch</th>\n",
              "      <th>Homicide rate</th>\n",
              "      <th>Inadequate social support</th>\n",
              "    </tr>\n",
              "  </thead>\n",
              "  <tbody>\n",
              "    <tr>\n",
              "      <th>0</th>\n",
              "      <td>AK</td>\n",
              "      <td>West</td>\n",
              "      <td>Pacific</td>\n",
              "      <td>Aleutians West Census Area</td>\n",
              "      <td>2016</td>\n",
              "      <td>2016</td>\n",
              "      <td>Insuff Data</td>\n",
              "      <td>1/1/2014</td>\n",
              "      <td>NaN</td>\n",
              "      <td>0.122</td>\n",
              "      <td>...</td>\n",
              "      <td>NaN</td>\n",
              "      <td>0.374</td>\n",
              "      <td>0.250</td>\n",
              "      <td>3791.0</td>\n",
              "      <td>0.185</td>\n",
              "      <td>216.0</td>\n",
              "      <td>69192</td>\n",
              "      <td>0.127</td>\n",
              "      <td>NaN</td>\n",
              "      <td>0.287</td>\n",
              "    </tr>\n",
              "    <tr>\n",
              "      <th>1</th>\n",
              "      <td>AK</td>\n",
              "      <td>West</td>\n",
              "      <td>Pacific</td>\n",
              "      <td>Aleutians West Census Area</td>\n",
              "      <td>2016</td>\n",
              "      <td>2016</td>\n",
              "      <td>Insuff Data</td>\n",
              "      <td>1/1/2015</td>\n",
              "      <td>NaN</td>\n",
              "      <td>0.122</td>\n",
              "      <td>...</td>\n",
              "      <td>NaN</td>\n",
              "      <td>0.314</td>\n",
              "      <td>0.176</td>\n",
              "      <td>4837.0</td>\n",
              "      <td>0.185</td>\n",
              "      <td>254.0</td>\n",
              "      <td>74088</td>\n",
              "      <td>0.133</td>\n",
              "      <td>NaN</td>\n",
              "      <td>NaN</td>\n",
              "    </tr>\n",
              "    <tr>\n",
              "      <th>2</th>\n",
              "      <td>AK</td>\n",
              "      <td>West</td>\n",
              "      <td>Pacific</td>\n",
              "      <td>Anchorage Borough</td>\n",
              "      <td>2020</td>\n",
              "      <td>2020</td>\n",
              "      <td>Region 22</td>\n",
              "      <td>1/1/2014</td>\n",
              "      <td>6827.0</td>\n",
              "      <td>0.125</td>\n",
              "      <td>...</td>\n",
              "      <td>15.37</td>\n",
              "      <td>0.218</td>\n",
              "      <td>0.096</td>\n",
              "      <td>6588.0</td>\n",
              "      <td>0.119</td>\n",
              "      <td>135.0</td>\n",
              "      <td>71094</td>\n",
              "      <td>0.319</td>\n",
              "      <td>6.29</td>\n",
              "      <td>0.160</td>\n",
              "    </tr>\n",
              "    <tr>\n",
              "      <th>3</th>\n",
              "      <td>AK</td>\n",
              "      <td>West</td>\n",
              "      <td>Pacific</td>\n",
              "      <td>Anchorage Borough</td>\n",
              "      <td>2020</td>\n",
              "      <td>2020</td>\n",
              "      <td>Region 22</td>\n",
              "      <td>1/1/2015</td>\n",
              "      <td>6856.0</td>\n",
              "      <td>0.125</td>\n",
              "      <td>...</td>\n",
              "      <td>17.08</td>\n",
              "      <td>0.227</td>\n",
              "      <td>0.123</td>\n",
              "      <td>6582.0</td>\n",
              "      <td>0.119</td>\n",
              "      <td>148.0</td>\n",
              "      <td>76362</td>\n",
              "      <td>0.334</td>\n",
              "      <td>5.60</td>\n",
              "      <td>NaN</td>\n",
              "    </tr>\n",
              "    <tr>\n",
              "      <th>4</th>\n",
              "      <td>AK</td>\n",
              "      <td>West</td>\n",
              "      <td>Pacific</td>\n",
              "      <td>Bethel Census Area</td>\n",
              "      <td>2050</td>\n",
              "      <td>2050</td>\n",
              "      <td>Insuff Data</td>\n",
              "      <td>1/1/2014</td>\n",
              "      <td>13345.0</td>\n",
              "      <td>0.211</td>\n",
              "      <td>...</td>\n",
              "      <td>NaN</td>\n",
              "      <td>0.394</td>\n",
              "      <td>0.124</td>\n",
              "      <td>5860.0</td>\n",
              "      <td>0.200</td>\n",
              "      <td>169.0</td>\n",
              "      <td>41722</td>\n",
              "      <td>0.668</td>\n",
              "      <td>12.77</td>\n",
              "      <td>0.477</td>\n",
              "    </tr>\n",
              "  </tbody>\n",
              "</table>\n",
              "<p>5 rows × 64 columns</p>\n",
              "</div>\n",
              "    <div class=\"colab-df-buttons\">\n",
              "\n",
              "  <div class=\"colab-df-container\">\n",
              "    <button class=\"colab-df-convert\" onclick=\"convertToInteractive('df-a6383fcc-a864-461d-aa25-9b9f8ee20abd')\"\n",
              "            title=\"Convert this dataframe to an interactive table.\"\n",
              "            style=\"display:none;\">\n",
              "\n",
              "  <svg xmlns=\"http://www.w3.org/2000/svg\" height=\"24px\" viewBox=\"0 -960 960 960\">\n",
              "    <path d=\"M120-120v-720h720v720H120Zm60-500h600v-160H180v160Zm220 220h160v-160H400v160Zm0 220h160v-160H400v160ZM180-400h160v-160H180v160Zm440 0h160v-160H620v160ZM180-180h160v-160H180v160Zm440 0h160v-160H620v160Z\"/>\n",
              "  </svg>\n",
              "    </button>\n",
              "\n",
              "  <style>\n",
              "    .colab-df-container {\n",
              "      display:flex;\n",
              "      gap: 12px;\n",
              "    }\n",
              "\n",
              "    .colab-df-convert {\n",
              "      background-color: #E8F0FE;\n",
              "      border: none;\n",
              "      border-radius: 50%;\n",
              "      cursor: pointer;\n",
              "      display: none;\n",
              "      fill: #1967D2;\n",
              "      height: 32px;\n",
              "      padding: 0 0 0 0;\n",
              "      width: 32px;\n",
              "    }\n",
              "\n",
              "    .colab-df-convert:hover {\n",
              "      background-color: #E2EBFA;\n",
              "      box-shadow: 0px 1px 2px rgba(60, 64, 67, 0.3), 0px 1px 3px 1px rgba(60, 64, 67, 0.15);\n",
              "      fill: #174EA6;\n",
              "    }\n",
              "\n",
              "    .colab-df-buttons div {\n",
              "      margin-bottom: 4px;\n",
              "    }\n",
              "\n",
              "    [theme=dark] .colab-df-convert {\n",
              "      background-color: #3B4455;\n",
              "      fill: #D2E3FC;\n",
              "    }\n",
              "\n",
              "    [theme=dark] .colab-df-convert:hover {\n",
              "      background-color: #434B5C;\n",
              "      box-shadow: 0px 1px 3px 1px rgba(0, 0, 0, 0.15);\n",
              "      filter: drop-shadow(0px 1px 2px rgba(0, 0, 0, 0.3));\n",
              "      fill: #FFFFFF;\n",
              "    }\n",
              "  </style>\n",
              "\n",
              "    <script>\n",
              "      const buttonEl =\n",
              "        document.querySelector('#df-a6383fcc-a864-461d-aa25-9b9f8ee20abd button.colab-df-convert');\n",
              "      buttonEl.style.display =\n",
              "        google.colab.kernel.accessAllowed ? 'block' : 'none';\n",
              "\n",
              "      async function convertToInteractive(key) {\n",
              "        const element = document.querySelector('#df-a6383fcc-a864-461d-aa25-9b9f8ee20abd');\n",
              "        const dataTable =\n",
              "          await google.colab.kernel.invokeFunction('convertToInteractive',\n",
              "                                                    [key], {});\n",
              "        if (!dataTable) return;\n",
              "\n",
              "        const docLinkHtml = 'Like what you see? Visit the ' +\n",
              "          '<a target=\"_blank\" href=https://colab.research.google.com/notebooks/data_table.ipynb>data table notebook</a>'\n",
              "          + ' to learn more about interactive tables.';\n",
              "        element.innerHTML = '';\n",
              "        dataTable['output_type'] = 'display_data';\n",
              "        await google.colab.output.renderOutput(dataTable, element);\n",
              "        const docLink = document.createElement('div');\n",
              "        docLink.innerHTML = docLinkHtml;\n",
              "        element.appendChild(docLink);\n",
              "      }\n",
              "    </script>\n",
              "  </div>\n",
              "\n",
              "\n",
              "<div id=\"df-700c6331-f7c7-499d-a7aa-78f324cc057f\">\n",
              "  <button class=\"colab-df-quickchart\" onclick=\"quickchart('df-700c6331-f7c7-499d-a7aa-78f324cc057f')\"\n",
              "            title=\"Suggest charts\"\n",
              "            style=\"display:none;\">\n",
              "\n",
              "<svg xmlns=\"http://www.w3.org/2000/svg\" height=\"24px\"viewBox=\"0 0 24 24\"\n",
              "     width=\"24px\">\n",
              "    <g>\n",
              "        <path d=\"M19 3H5c-1.1 0-2 .9-2 2v14c0 1.1.9 2 2 2h14c1.1 0 2-.9 2-2V5c0-1.1-.9-2-2-2zM9 17H7v-7h2v7zm4 0h-2V7h2v10zm4 0h-2v-4h2v4z\"/>\n",
              "    </g>\n",
              "</svg>\n",
              "  </button>\n",
              "\n",
              "<style>\n",
              "  .colab-df-quickchart {\n",
              "      --bg-color: #E8F0FE;\n",
              "      --fill-color: #1967D2;\n",
              "      --hover-bg-color: #E2EBFA;\n",
              "      --hover-fill-color: #174EA6;\n",
              "      --disabled-fill-color: #AAA;\n",
              "      --disabled-bg-color: #DDD;\n",
              "  }\n",
              "\n",
              "  [theme=dark] .colab-df-quickchart {\n",
              "      --bg-color: #3B4455;\n",
              "      --fill-color: #D2E3FC;\n",
              "      --hover-bg-color: #434B5C;\n",
              "      --hover-fill-color: #FFFFFF;\n",
              "      --disabled-bg-color: #3B4455;\n",
              "      --disabled-fill-color: #666;\n",
              "  }\n",
              "\n",
              "  .colab-df-quickchart {\n",
              "    background-color: var(--bg-color);\n",
              "    border: none;\n",
              "    border-radius: 50%;\n",
              "    cursor: pointer;\n",
              "    display: none;\n",
              "    fill: var(--fill-color);\n",
              "    height: 32px;\n",
              "    padding: 0;\n",
              "    width: 32px;\n",
              "  }\n",
              "\n",
              "  .colab-df-quickchart:hover {\n",
              "    background-color: var(--hover-bg-color);\n",
              "    box-shadow: 0 1px 2px rgba(60, 64, 67, 0.3), 0 1px 3px 1px rgba(60, 64, 67, 0.15);\n",
              "    fill: var(--button-hover-fill-color);\n",
              "  }\n",
              "\n",
              "  .colab-df-quickchart-complete:disabled,\n",
              "  .colab-df-quickchart-complete:disabled:hover {\n",
              "    background-color: var(--disabled-bg-color);\n",
              "    fill: var(--disabled-fill-color);\n",
              "    box-shadow: none;\n",
              "  }\n",
              "\n",
              "  .colab-df-spinner {\n",
              "    border: 2px solid var(--fill-color);\n",
              "    border-color: transparent;\n",
              "    border-bottom-color: var(--fill-color);\n",
              "    animation:\n",
              "      spin 1s steps(1) infinite;\n",
              "  }\n",
              "\n",
              "  @keyframes spin {\n",
              "    0% {\n",
              "      border-color: transparent;\n",
              "      border-bottom-color: var(--fill-color);\n",
              "      border-left-color: var(--fill-color);\n",
              "    }\n",
              "    20% {\n",
              "      border-color: transparent;\n",
              "      border-left-color: var(--fill-color);\n",
              "      border-top-color: var(--fill-color);\n",
              "    }\n",
              "    30% {\n",
              "      border-color: transparent;\n",
              "      border-left-color: var(--fill-color);\n",
              "      border-top-color: var(--fill-color);\n",
              "      border-right-color: var(--fill-color);\n",
              "    }\n",
              "    40% {\n",
              "      border-color: transparent;\n",
              "      border-right-color: var(--fill-color);\n",
              "      border-top-color: var(--fill-color);\n",
              "    }\n",
              "    60% {\n",
              "      border-color: transparent;\n",
              "      border-right-color: var(--fill-color);\n",
              "    }\n",
              "    80% {\n",
              "      border-color: transparent;\n",
              "      border-right-color: var(--fill-color);\n",
              "      border-bottom-color: var(--fill-color);\n",
              "    }\n",
              "    90% {\n",
              "      border-color: transparent;\n",
              "      border-bottom-color: var(--fill-color);\n",
              "    }\n",
              "  }\n",
              "</style>\n",
              "\n",
              "  <script>\n",
              "    async function quickchart(key) {\n",
              "      const quickchartButtonEl =\n",
              "        document.querySelector('#' + key + ' button');\n",
              "      quickchartButtonEl.disabled = true;  // To prevent multiple clicks.\n",
              "      quickchartButtonEl.classList.add('colab-df-spinner');\n",
              "      try {\n",
              "        const charts = await google.colab.kernel.invokeFunction(\n",
              "            'suggestCharts', [key], {});\n",
              "      } catch (error) {\n",
              "        console.error('Error during call to suggestCharts:', error);\n",
              "      }\n",
              "      quickchartButtonEl.classList.remove('colab-df-spinner');\n",
              "      quickchartButtonEl.classList.add('colab-df-quickchart-complete');\n",
              "    }\n",
              "    (() => {\n",
              "      let quickchartButtonEl =\n",
              "        document.querySelector('#df-700c6331-f7c7-499d-a7aa-78f324cc057f button');\n",
              "      quickchartButtonEl.style.display =\n",
              "        google.colab.kernel.accessAllowed ? 'block' : 'none';\n",
              "    })();\n",
              "  </script>\n",
              "</div>\n",
              "    </div>\n",
              "  </div>\n"
            ]
          },
          "metadata": {},
          "execution_count": 23
        }
      ]
    },
    {
      "cell_type": "code",
      "source": [
        "df[\"Region\"][19:101]"
      ],
      "metadata": {
        "colab": {
          "base_uri": "https://localhost:8080/"
        },
        "id": "MU_3KVN3BBOm",
        "outputId": "783b7356-8c88-4a5c-b064-8993f1955cd0"
      },
      "execution_count": 24,
      "outputs": [
        {
          "output_type": "execute_result",
          "data": {
            "text/plain": [
              "19      West\n",
              "20      West\n",
              "21      West\n",
              "22      West\n",
              "23      West\n",
              "       ...  \n",
              "96     South\n",
              "97     South\n",
              "98     South\n",
              "99     South\n",
              "100    South\n",
              "Name: Region, Length: 82, dtype: object"
            ]
          },
          "metadata": {},
          "execution_count": 24
        }
      ]
    },
    {
      "cell_type": "code",
      "source": [
        "df.loc[:,[\"Region\",\"Premature death\"]].tail()"
      ],
      "metadata": {
        "colab": {
          "base_uri": "https://localhost:8080/",
          "height": 206
        },
        "id": "Zs8fYxUXBk6H",
        "outputId": "0ed12229-4a87-4cc0-aab9-258b9ecebe18"
      },
      "execution_count": 25,
      "outputs": [
        {
          "output_type": "execute_result",
          "data": {
            "text/plain": [
              "     Region  Premature death\n",
              "6104   West           7436.0\n",
              "6105   West           6580.0\n",
              "6106   West           7572.0\n",
              "6107   West           5633.0\n",
              "6108   West           7819.0"
            ],
            "text/html": [
              "\n",
              "  <div id=\"df-368b5faf-c0d6-4955-b0ad-bf8335c7910f\" class=\"colab-df-container\">\n",
              "    <div>\n",
              "<style scoped>\n",
              "    .dataframe tbody tr th:only-of-type {\n",
              "        vertical-align: middle;\n",
              "    }\n",
              "\n",
              "    .dataframe tbody tr th {\n",
              "        vertical-align: top;\n",
              "    }\n",
              "\n",
              "    .dataframe thead th {\n",
              "        text-align: right;\n",
              "    }\n",
              "</style>\n",
              "<table border=\"1\" class=\"dataframe\">\n",
              "  <thead>\n",
              "    <tr style=\"text-align: right;\">\n",
              "      <th></th>\n",
              "      <th>Region</th>\n",
              "      <th>Premature death</th>\n",
              "    </tr>\n",
              "  </thead>\n",
              "  <tbody>\n",
              "    <tr>\n",
              "      <th>6104</th>\n",
              "      <td>West</td>\n",
              "      <td>7436.0</td>\n",
              "    </tr>\n",
              "    <tr>\n",
              "      <th>6105</th>\n",
              "      <td>West</td>\n",
              "      <td>6580.0</td>\n",
              "    </tr>\n",
              "    <tr>\n",
              "      <th>6106</th>\n",
              "      <td>West</td>\n",
              "      <td>7572.0</td>\n",
              "    </tr>\n",
              "    <tr>\n",
              "      <th>6107</th>\n",
              "      <td>West</td>\n",
              "      <td>5633.0</td>\n",
              "    </tr>\n",
              "    <tr>\n",
              "      <th>6108</th>\n",
              "      <td>West</td>\n",
              "      <td>7819.0</td>\n",
              "    </tr>\n",
              "  </tbody>\n",
              "</table>\n",
              "</div>\n",
              "    <div class=\"colab-df-buttons\">\n",
              "\n",
              "  <div class=\"colab-df-container\">\n",
              "    <button class=\"colab-df-convert\" onclick=\"convertToInteractive('df-368b5faf-c0d6-4955-b0ad-bf8335c7910f')\"\n",
              "            title=\"Convert this dataframe to an interactive table.\"\n",
              "            style=\"display:none;\">\n",
              "\n",
              "  <svg xmlns=\"http://www.w3.org/2000/svg\" height=\"24px\" viewBox=\"0 -960 960 960\">\n",
              "    <path d=\"M120-120v-720h720v720H120Zm60-500h600v-160H180v160Zm220 220h160v-160H400v160Zm0 220h160v-160H400v160ZM180-400h160v-160H180v160Zm440 0h160v-160H620v160ZM180-180h160v-160H180v160Zm440 0h160v-160H620v160Z\"/>\n",
              "  </svg>\n",
              "    </button>\n",
              "\n",
              "  <style>\n",
              "    .colab-df-container {\n",
              "      display:flex;\n",
              "      gap: 12px;\n",
              "    }\n",
              "\n",
              "    .colab-df-convert {\n",
              "      background-color: #E8F0FE;\n",
              "      border: none;\n",
              "      border-radius: 50%;\n",
              "      cursor: pointer;\n",
              "      display: none;\n",
              "      fill: #1967D2;\n",
              "      height: 32px;\n",
              "      padding: 0 0 0 0;\n",
              "      width: 32px;\n",
              "    }\n",
              "\n",
              "    .colab-df-convert:hover {\n",
              "      background-color: #E2EBFA;\n",
              "      box-shadow: 0px 1px 2px rgba(60, 64, 67, 0.3), 0px 1px 3px 1px rgba(60, 64, 67, 0.15);\n",
              "      fill: #174EA6;\n",
              "    }\n",
              "\n",
              "    .colab-df-buttons div {\n",
              "      margin-bottom: 4px;\n",
              "    }\n",
              "\n",
              "    [theme=dark] .colab-df-convert {\n",
              "      background-color: #3B4455;\n",
              "      fill: #D2E3FC;\n",
              "    }\n",
              "\n",
              "    [theme=dark] .colab-df-convert:hover {\n",
              "      background-color: #434B5C;\n",
              "      box-shadow: 0px 1px 3px 1px rgba(0, 0, 0, 0.15);\n",
              "      filter: drop-shadow(0px 1px 2px rgba(0, 0, 0, 0.3));\n",
              "      fill: #FFFFFF;\n",
              "    }\n",
              "  </style>\n",
              "\n",
              "    <script>\n",
              "      const buttonEl =\n",
              "        document.querySelector('#df-368b5faf-c0d6-4955-b0ad-bf8335c7910f button.colab-df-convert');\n",
              "      buttonEl.style.display =\n",
              "        google.colab.kernel.accessAllowed ? 'block' : 'none';\n",
              "\n",
              "      async function convertToInteractive(key) {\n",
              "        const element = document.querySelector('#df-368b5faf-c0d6-4955-b0ad-bf8335c7910f');\n",
              "        const dataTable =\n",
              "          await google.colab.kernel.invokeFunction('convertToInteractive',\n",
              "                                                    [key], {});\n",
              "        if (!dataTable) return;\n",
              "\n",
              "        const docLinkHtml = 'Like what you see? Visit the ' +\n",
              "          '<a target=\"_blank\" href=https://colab.research.google.com/notebooks/data_table.ipynb>data table notebook</a>'\n",
              "          + ' to learn more about interactive tables.';\n",
              "        element.innerHTML = '';\n",
              "        dataTable['output_type'] = 'display_data';\n",
              "        await google.colab.output.renderOutput(dataTable, element);\n",
              "        const docLink = document.createElement('div');\n",
              "        docLink.innerHTML = docLinkHtml;\n",
              "        element.appendChild(docLink);\n",
              "      }\n",
              "    </script>\n",
              "  </div>\n",
              "\n",
              "\n",
              "<div id=\"df-7bfd986c-b622-4373-9303-076a142aacab\">\n",
              "  <button class=\"colab-df-quickchart\" onclick=\"quickchart('df-7bfd986c-b622-4373-9303-076a142aacab')\"\n",
              "            title=\"Suggest charts\"\n",
              "            style=\"display:none;\">\n",
              "\n",
              "<svg xmlns=\"http://www.w3.org/2000/svg\" height=\"24px\"viewBox=\"0 0 24 24\"\n",
              "     width=\"24px\">\n",
              "    <g>\n",
              "        <path d=\"M19 3H5c-1.1 0-2 .9-2 2v14c0 1.1.9 2 2 2h14c1.1 0 2-.9 2-2V5c0-1.1-.9-2-2-2zM9 17H7v-7h2v7zm4 0h-2V7h2v10zm4 0h-2v-4h2v4z\"/>\n",
              "    </g>\n",
              "</svg>\n",
              "  </button>\n",
              "\n",
              "<style>\n",
              "  .colab-df-quickchart {\n",
              "      --bg-color: #E8F0FE;\n",
              "      --fill-color: #1967D2;\n",
              "      --hover-bg-color: #E2EBFA;\n",
              "      --hover-fill-color: #174EA6;\n",
              "      --disabled-fill-color: #AAA;\n",
              "      --disabled-bg-color: #DDD;\n",
              "  }\n",
              "\n",
              "  [theme=dark] .colab-df-quickchart {\n",
              "      --bg-color: #3B4455;\n",
              "      --fill-color: #D2E3FC;\n",
              "      --hover-bg-color: #434B5C;\n",
              "      --hover-fill-color: #FFFFFF;\n",
              "      --disabled-bg-color: #3B4455;\n",
              "      --disabled-fill-color: #666;\n",
              "  }\n",
              "\n",
              "  .colab-df-quickchart {\n",
              "    background-color: var(--bg-color);\n",
              "    border: none;\n",
              "    border-radius: 50%;\n",
              "    cursor: pointer;\n",
              "    display: none;\n",
              "    fill: var(--fill-color);\n",
              "    height: 32px;\n",
              "    padding: 0;\n",
              "    width: 32px;\n",
              "  }\n",
              "\n",
              "  .colab-df-quickchart:hover {\n",
              "    background-color: var(--hover-bg-color);\n",
              "    box-shadow: 0 1px 2px rgba(60, 64, 67, 0.3), 0 1px 3px 1px rgba(60, 64, 67, 0.15);\n",
              "    fill: var(--button-hover-fill-color);\n",
              "  }\n",
              "\n",
              "  .colab-df-quickchart-complete:disabled,\n",
              "  .colab-df-quickchart-complete:disabled:hover {\n",
              "    background-color: var(--disabled-bg-color);\n",
              "    fill: var(--disabled-fill-color);\n",
              "    box-shadow: none;\n",
              "  }\n",
              "\n",
              "  .colab-df-spinner {\n",
              "    border: 2px solid var(--fill-color);\n",
              "    border-color: transparent;\n",
              "    border-bottom-color: var(--fill-color);\n",
              "    animation:\n",
              "      spin 1s steps(1) infinite;\n",
              "  }\n",
              "\n",
              "  @keyframes spin {\n",
              "    0% {\n",
              "      border-color: transparent;\n",
              "      border-bottom-color: var(--fill-color);\n",
              "      border-left-color: var(--fill-color);\n",
              "    }\n",
              "    20% {\n",
              "      border-color: transparent;\n",
              "      border-left-color: var(--fill-color);\n",
              "      border-top-color: var(--fill-color);\n",
              "    }\n",
              "    30% {\n",
              "      border-color: transparent;\n",
              "      border-left-color: var(--fill-color);\n",
              "      border-top-color: var(--fill-color);\n",
              "      border-right-color: var(--fill-color);\n",
              "    }\n",
              "    40% {\n",
              "      border-color: transparent;\n",
              "      border-right-color: var(--fill-color);\n",
              "      border-top-color: var(--fill-color);\n",
              "    }\n",
              "    60% {\n",
              "      border-color: transparent;\n",
              "      border-right-color: var(--fill-color);\n",
              "    }\n",
              "    80% {\n",
              "      border-color: transparent;\n",
              "      border-right-color: var(--fill-color);\n",
              "      border-bottom-color: var(--fill-color);\n",
              "    }\n",
              "    90% {\n",
              "      border-color: transparent;\n",
              "      border-bottom-color: var(--fill-color);\n",
              "    }\n",
              "  }\n",
              "</style>\n",
              "\n",
              "  <script>\n",
              "    async function quickchart(key) {\n",
              "      const quickchartButtonEl =\n",
              "        document.querySelector('#' + key + ' button');\n",
              "      quickchartButtonEl.disabled = true;  // To prevent multiple clicks.\n",
              "      quickchartButtonEl.classList.add('colab-df-spinner');\n",
              "      try {\n",
              "        const charts = await google.colab.kernel.invokeFunction(\n",
              "            'suggestCharts', [key], {});\n",
              "      } catch (error) {\n",
              "        console.error('Error during call to suggestCharts:', error);\n",
              "      }\n",
              "      quickchartButtonEl.classList.remove('colab-df-spinner');\n",
              "      quickchartButtonEl.classList.add('colab-df-quickchart-complete');\n",
              "    }\n",
              "    (() => {\n",
              "      let quickchartButtonEl =\n",
              "        document.querySelector('#df-7bfd986c-b622-4373-9303-076a142aacab button');\n",
              "      quickchartButtonEl.style.display =\n",
              "        google.colab.kernel.accessAllowed ? 'block' : 'none';\n",
              "    })();\n",
              "  </script>\n",
              "</div>\n",
              "    </div>\n",
              "  </div>\n"
            ]
          },
          "metadata": {},
          "execution_count": 25
        }
      ]
    },
    {
      "cell_type": "code",
      "source": [
        "df.dtypes"
      ],
      "metadata": {
        "colab": {
          "base_uri": "https://localhost:8080/"
        },
        "id": "VaqMjrllChD_",
        "outputId": "7d98a3e8-d181-4dda-ee97-e07fd392c038"
      },
      "execution_count": 26,
      "outputs": [
        {
          "output_type": "execute_result",
          "data": {
            "text/plain": [
              "State                                object\n",
              "Region                               object\n",
              "Division                             object\n",
              "County                               object\n",
              "FIPS                                  int64\n",
              "                                     ...   \n",
              "Other primary care providers        float64\n",
              "Median household income               int64\n",
              "Children eligible for free lunch    float64\n",
              "Homicide rate                       float64\n",
              "Inadequate social support           float64\n",
              "Length: 64, dtype: object"
            ]
          },
          "metadata": {},
          "execution_count": 26
        }
      ]
    },
    {
      "cell_type": "code",
      "source": [
        "df.Region.value_counts()"
      ],
      "metadata": {
        "colab": {
          "base_uri": "https://localhost:8080/"
        },
        "id": "pQgAKWlrCs7D",
        "outputId": "04baa181-3aa2-44f6-d955-7f2835e8589a"
      },
      "execution_count": 27,
      "outputs": [
        {
          "output_type": "execute_result",
          "data": {
            "text/plain": [
              "South        2803\n",
              "Midwest      2038\n",
              "West          834\n",
              "Northeast     434\n",
              "Name: Region, dtype: int64"
            ]
          },
          "metadata": {},
          "execution_count": 27
        }
      ]
    },
    {
      "cell_type": "code",
      "source": [],
      "metadata": {
        "id": "Qy0u92QQDp8a"
      },
      "execution_count": 27,
      "outputs": []
    },
    {
      "cell_type": "markdown",
      "source": [
        "# Feeder 3.1 Procedural Overview\n",
        "######To make the County Health Data easier to read, the data is aggregated into region. This data displayed is info on Premature deaths by Region.\n",
        "## Data Set-up\n",
        "1. You must import pandas as an object so that is can begin to manipulate the data given.\n",
        "\n",
        "2. Next, the dataset must be imported as an object\n",
        "      - Download the Public *County Health Dataset CSV file *\n",
        "      - Classify the dataset as \"df\" so pandas has an object to read"
      ],
      "metadata": {
        "id": "d4gnkuKKl6GD"
      }
    },
    {
      "cell_type": "code",
      "source": [
        "import pandas as pd\n",
        "df=pd.read_csv(\"CountyHealthData_2014-2015F.csv\")\n"
      ],
      "metadata": {
        "id": "3oUgBvNfnar2"
      },
      "execution_count": 28,
      "outputs": []
    },
    {
      "cell_type": "markdown",
      "source": [],
      "metadata": {
        "id": "DSY8Od8SqUal"
      }
    },
    {
      "cell_type": "markdown",
      "source": [
        "## Finding The Amount of Regions\n",
        "1. Create an object called \"Region\" that has the 4 regions given in dataset in a string\n",
        "(this will help with the prouction of a new dataset)\n"
      ],
      "metadata": {
        "id": "hJ2xlOm_nxi7"
      }
    },
    {
      "cell_type": "code",
      "source": [
        "Region = [\"West\", \"Northeast\", \"Midwest\", \"South\"]"
      ],
      "metadata": {
        "id": "WwxByJCYoqeU"
      },
      "execution_count": 29,
      "outputs": []
    },
    {
      "cell_type": "markdown",
      "source": [
        "## Making a list of Premature deaths by Region\n",
        "1. Using the data and pandas we will make columns of \"Region\" and \"Premature deaths\""
      ],
      "metadata": {
        "id": "ArJfxRufo5i9"
      }
    },
    {
      "cell_type": "code",
      "source": [
        "combined = pd.DataFrame({\"Region\":[], \"Premature\":[],\"Poor\":[] , \"Teen\":[] ,\"Child\":[] ,\"Primary\":[] })\n"
      ],
      "metadata": {
        "id": "nibbiSHhpXZp"
      },
      "execution_count": 30,
      "outputs": []
    },
    {
      "cell_type": "markdown",
      "source": [
        "Through the use of a for loop we can iterate through the list of regions. In each iteration of the loop we add a row to the dataframe. First I created a dataframe of objects with two values, Region and Premature. After the cumulative dataframe is combined wuth a temporary dataframe."
      ],
      "metadata": {
        "id": "nKDC1itqB6-N"
      }
    },
    {
      "cell_type": "code",
      "source": [
        "for x in Region:\n",
        "    current = pd.DataFrame({\"Region\":[x], \"Premature\":[df[df[\"Region\"]==x].Premature.sum()], \"Poor\":[df[df[\"Region\"]==x].Poor.sum()], \"Teen\":[df[df[\"Region\"]==x].Teen.sum()], \"Child\":[df[df[\"Region\"]==x].Child.sum()], \"Primary\":[df[df[\"Region\"]==x].Primary.sum()]})\n",
        "    combined = pd.concat([combined, current],axis=0,ignore_index=True,sort=False)\n"
      ],
      "metadata": {
        "id": "SARJxSvhD-GY"
      },
      "execution_count": 31,
      "outputs": []
    },
    {
      "cell_type": "markdown",
      "source": [
        "Then I changed the column names and made the cumulative dataframe into a csv file."
      ],
      "metadata": {
        "id": "hXCSpVB6Hw34"
      }
    },
    {
      "cell_type": "code",
      "source": [
        "    combined = combined.rename(columns={'Premature' : 'Premature Death','Poor' : 'Poor or fair health','Teen' : 'Teen births','Child' : 'Children in poverty','Primary' : 'Primary care physicians'})\n",
        "\n",
        "    combined.to_csv(\"RegionData-22.csv\", index=False)\n"
      ],
      "metadata": {
        "id": "4upykmIUHpQp"
      },
      "execution_count": 32,
      "outputs": []
    }
  ]
}